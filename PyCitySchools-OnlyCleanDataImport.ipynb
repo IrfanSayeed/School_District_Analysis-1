{
 "cells": [
  {
   "cell_type": "code",
   "execution_count": null,
   "id": "85635726",
   "metadata": {},
   "outputs": [],
   "source": [
    "#Add the Pandas dependency.\n",
    "import pandas as pd\n",
    "import os"
   ]
  },
  {
   "cell_type": "code",
   "execution_count": null,
   "id": "67141aaf",
   "metadata": {},
   "outputs": [],
   "source": [
    "#********************************************************\n",
    "#********************************************************\n",
    "#Loading clean student data from 4.6.1\n",
    "#********************************************************\n",
    "#********************************************************\n",
    "\n",
    "school_data_to_load = os.path.join(\"Resources\", \"schools_complete.csv\")\n",
    "clean_students_data_to_load = os.path.join(\"Resources\", \"clean_students_complete.csv\")"
   ]
  },
  {
   "cell_type": "code",
   "execution_count": null,
   "id": "dd3c09e1",
   "metadata": {},
   "outputs": [],
   "source": [
    "# # Read the school data file and store it in a Pandas DataFrame.\n",
    "school_data_df = pd.read_csv(school_data_to_load)\n",
    "school_data_df\n",
    "\n"
   ]
  },
  {
   "cell_type": "code",
   "execution_count": null,
   "id": "a49a31d5",
   "metadata": {},
   "outputs": [],
   "source": [
    "# Read the student data file and store it in a Pandas DataFrame.\n",
    "clean_students_data_df = pd.read_csv(clean_students_data_to_load)\n",
    "clean_students_data_df"
   ]
  },
  {
   "cell_type": "code",
   "execution_count": null,
   "id": "ae6b9554",
   "metadata": {},
   "outputs": [],
   "source": [
    "# Add the DataFrames to be merged.\n",
    "# Add the shared column to each DataFrame so that the merge can occur.\n",
    "# Define how the DataFrames should be merged: left, right, inner, or outer. The default is inner.\n",
    "#modified to use clean_students_data\n",
    "\n",
    "# Combine the data into a single dataset.\n",
    "school_data_complete_df = pd.merge(clean_students_data_df, school_data_df, on=[\"school_name\", \"school_name\"])\n",
    "school_data_complete_df.head()\n"
   ]
  },
  {
   "cell_type": "code",
   "execution_count": null,
   "id": "72b73267",
   "metadata": {},
   "outputs": [],
   "source": [
    "# Get the total number of students.\n",
    "student_count = school_data_complete_df.count()\n",
    "student_count"
   ]
  },
  {
   "cell_type": "code",
   "execution_count": null,
   "id": "4f4c656b",
   "metadata": {},
   "outputs": [],
   "source": [
    "#Get the total number of students.\n",
    "student_count=school_data_complete_df[\"Student ID\"].count()\n",
    "student_count"
   ]
  },
  {
   "cell_type": "code",
   "execution_count": null,
   "id": "3ffdf34a",
   "metadata": {},
   "outputs": [],
   "source": [
    "# Calculate the total number of schools.\n",
    "school_count = school_data_df[\"school_name\"].count()\n",
    "school_count"
   ]
  },
  {
   "cell_type": "code",
   "execution_count": null,
   "id": "9c01e3ed",
   "metadata": {},
   "outputs": [],
   "source": [
    "# Calculate the total number of schools\n",
    "school_count_2 = school_data_complete_df[\"school_name\"].unique()\n",
    "school_count_2"
   ]
  },
  {
   "cell_type": "code",
   "execution_count": null,
   "id": "575f914d",
   "metadata": {},
   "outputs": [],
   "source": [
    "#tip: check your answer in excel to see if it matches\n",
    "# Calculate the total budget.\n",
    "total_budget = school_data_df[\"budget\"].sum()\n",
    "total_budget"
   ]
  },
  {
   "cell_type": "code",
   "execution_count": null,
   "id": "17fbb7cf",
   "metadata": {},
   "outputs": [],
   "source": [
    "# Calculate the average reading score.\n",
    "average_reading_score = school_data_complete_df[\"reading_score\"].mean()\n",
    "average_reading_score"
   ]
  },
  {
   "cell_type": "code",
   "execution_count": null,
   "id": "540bf7f5",
   "metadata": {},
   "outputs": [],
   "source": [
    "# Calculate the average math score.\n",
    "average_math_score = school_data_complete_df[\"math_score\"].mean()\n",
    "average_math_score"
   ]
  },
  {
   "cell_type": "code",
   "execution_count": null,
   "id": "c0291d10",
   "metadata": {
    "scrolled": true
   },
   "outputs": [],
   "source": [
    "#Define the passing score variable for math\n",
    "passing_math = school_data_complete_df[\"math_score\"] >= 70\n",
    "passing_math"
   ]
  },
  {
   "cell_type": "code",
   "execution_count": null,
   "id": "5e37e070",
   "metadata": {},
   "outputs": [],
   "source": [
    "#Define the passing score variable for reading\n",
    "passing_reading = school_data_complete_df[\"reading_score\"] >= 70\n",
    "passing_reading"
   ]
  },
  {
   "cell_type": "code",
   "execution_count": null,
   "id": "cedd5165",
   "metadata": {},
   "outputs": [],
   "source": [
    "# Get all the students who are passing math in a new DataFrame.\n",
    "passing_math = school_data_complete_df[school_data_complete_df[\"math_score\"] >= 70]\n",
    "passing_math.head()"
   ]
  },
  {
   "cell_type": "code",
   "execution_count": null,
   "id": "3a476c1b",
   "metadata": {},
   "outputs": [],
   "source": [
    "# Get all the students who are passing reading in a new DataFrame.\n",
    "passing_reading = school_data_complete_df[school_data_complete_df[\"reading_score\"] >= 70]\n",
    "passing_reading.head()"
   ]
  },
  {
   "cell_type": "code",
   "execution_count": null,
   "id": "9bf421d8",
   "metadata": {},
   "outputs": [],
   "source": [
    "# Calculate the number of students passing math.\n",
    "passing_math_count = passing_math[\"student_name\"].count()\n",
    "print(passing_math_count)\n",
    "\n",
    "# Calculate the number of students passing reading.\n",
    "passing_reading_count = passing_reading[\"student_name\"].count()\n",
    "print(passing_reading_count)"
   ]
  },
  {
   "cell_type": "code",
   "execution_count": null,
   "id": "6c08ae12",
   "metadata": {},
   "outputs": [],
   "source": [
    "#Get the total number of students.\n",
    "student_count=school_data_complete_df[\"Student ID\"].count()\n",
    "student_count"
   ]
  },
  {
   "cell_type": "code",
   "execution_count": null,
   "id": "92f0c509",
   "metadata": {},
   "outputs": [],
   "source": [
    "# Calculate the percent that passed math.\n",
    "passing_math_percentage = passing_math_count / float(student_count) * 100\n",
    "print(passing_math_percentage)\n",
    "\n",
    "# Calculate the percent that passed reading.\n",
    "passing_reading_percentage = passing_reading_count / float(student_count) * 100\n",
    "print(passing_reading_percentage)"
   ]
  },
  {
   "cell_type": "code",
   "execution_count": null,
   "id": "ad7a4428",
   "metadata": {},
   "outputs": [],
   "source": [
    "# Calculate the students who passed both math and reading.\n",
    "passing_math_reading = school_data_complete_df[(school_data_complete_df[\"math_score\"] >= 70) & (school_data_complete_df[\"reading_score\"] >= 70)]\n",
    "\n",
    "passing_math_reading.head()"
   ]
  },
  {
   "cell_type": "code",
   "execution_count": null,
   "id": "4016d34c",
   "metadata": {},
   "outputs": [],
   "source": [
    "# Calculate the number of students who passed both math and reading.\n",
    "overall_passing_math_reading_count = passing_math_reading[\"student_name\"].count()\n",
    "overall_passing_math_reading_count"
   ]
  },
  {
   "cell_type": "code",
   "execution_count": null,
   "id": "8233f455",
   "metadata": {},
   "outputs": [],
   "source": [
    "# Calculate the overall passing percentage.\n",
    "overall_passing_percentage = overall_passing_math_reading_count / student_count * 100\n",
    "overall_passing_percentage"
   ]
  },
  {
   "cell_type": "code",
   "execution_count": null,
   "id": "4c4f5eb6",
   "metadata": {},
   "outputs": [],
   "source": [
    "# Adding a list of values with keys to create a new DataFrame.\n",
    "district_summary_df = pd.DataFrame(\n",
    "          [{\"Total Schools\": school_count,\n",
    "          \"Total Students\": student_count,\n",
    "          \"Total Budget\": total_budget,\n",
    "          \"Average Math Score\": average_math_score,\n",
    "          \"Average Reading Score\": average_reading_score,\n",
    "          \"% Passing Math\": passing_math_percentage,\n",
    "         \"% Passing Reading\": passing_reading_percentage,\n",
    "        \"% Overall Passing\": overall_passing_percentage}])\n",
    "district_summary_df"
   ]
  },
  {
   "cell_type": "code",
   "execution_count": null,
   "id": "b1fce396",
   "metadata": {},
   "outputs": [],
   "source": [
    "# Format the \"Total Students\" to have the comma for a thousands separator.\n",
    "district_summary_df[\"Total Students\"] = district_summary_df[\"Total Students\"].map(\"{:,}\".format)\n",
    "\n",
    "district_summary_df[\"Total Students\"]"
   ]
  },
  {
   "cell_type": "code",
   "execution_count": null,
   "id": "84e28edf",
   "metadata": {},
   "outputs": [],
   "source": [
    "# Define a function that calculates the percentage of students that passed both # math and reading and prints the passing percentage to the output when the\n",
    "# function is called.\n",
    "def passing_math_percent(pass_math_count, student_count):\n",
    "    return pass_math_count / float(student_count) * 100"
   ]
  },
  {
   "cell_type": "code",
   "execution_count": null,
   "id": "287149d8",
   "metadata": {},
   "outputs": [],
   "source": [
    "passing_math_count = 29370\n",
    "total_student_count = 39170\n"
   ]
  },
  {
   "cell_type": "code",
   "execution_count": null,
   "id": "76867004",
   "metadata": {},
   "outputs": [],
   "source": [
    "# Call the function.\n",
    "passing_math_percent(passing_math_count, total_student_count)"
   ]
  },
  {
   "cell_type": "code",
   "execution_count": null,
   "id": "ee9a14dd",
   "metadata": {},
   "outputs": [],
   "source": [
    "# Format \"Total Budget\" to have the comma for a thousands separator, a decimal separator, and a \"$\".\n",
    "\n",
    "district_summary_df[\"Total Budget\"] = district_summary_df[\"Total Budget\"].map(\"${:,.2f}\".format)\n",
    "\n",
    "district_summary_df[\"Total Budget\"]"
   ]
  },
  {
   "cell_type": "code",
   "execution_count": null,
   "id": "81026164",
   "metadata": {},
   "outputs": [],
   "source": [
    "# Format \"Average Math Score\" to have the comma for a thousands separator, a decimal separator, and a \"$\".\n",
    "district_summary_df[\"Average Math Score\"] = district_summary_df[\"Average Math Score\"].map(\"{:.1f}\".format)\n",
    "\n",
    "district_summary_df[\"Average Math Score\"]"
   ]
  },
  {
   "cell_type": "code",
   "execution_count": null,
   "id": "a9a09af0",
   "metadata": {},
   "outputs": [],
   "source": [
    "# Format \"Average Reading Score\" to have the comma for a thousands separator, a decimal separator, and a \"$\".\n",
    "district_summary_df[\"Average Reading Score\"] = district_summary_df[\"Average Reading Score\"].map(\"{:.1f}\".format)\n",
    "\n",
    "district_summary_df[\"Average Reading Score\"]"
   ]
  },
  {
   "cell_type": "code",
   "execution_count": null,
   "id": "c716ae9f",
   "metadata": {},
   "outputs": [],
   "source": [
    "# Format \"% Passing Math\" to have the comma for a thousands separator, a decimal separator, and a \"$\".\n",
    "district_summary_df[\"% Passing Math\"] = district_summary_df[\"% Passing Math\"].map(\"{:.0f}\".format)\n",
    "\n",
    "district_summary_df[\"% Passing Math\"]"
   ]
  },
  {
   "cell_type": "code",
   "execution_count": null,
   "id": "af553ac2",
   "metadata": {},
   "outputs": [],
   "source": [
    "# Format \"% Passing Reading\" to have the comma for a thousands separator, a decimal separator, and a \"$\".\n",
    "\n",
    "district_summary_df[\"% Passing Reading\"] = district_summary_df[\"% Passing Reading\"].map(\"{:.0f}\".format)\n",
    "\n",
    "district_summary_df[\"% Passing Reading\"]"
   ]
  },
  {
   "cell_type": "code",
   "execution_count": null,
   "id": "5fd5888f",
   "metadata": {},
   "outputs": [],
   "source": [
    "# Format \"% Overall Passing\" to have the comma for a thousands separator, a decimal separator, and a \"$\".\n",
    "district_summary_df[\"% Overall Passing\"] = district_summary_df[\"% Overall Passing\"].map(\"{:.0f}\".format)\n",
    "\n",
    "district_summary_df[\"% Overall Passing\"]"
   ]
  },
  {
   "cell_type": "code",
   "execution_count": null,
   "id": "91a85695",
   "metadata": {},
   "outputs": [],
   "source": [
    "#Display the DataFrame.\n",
    "district_summary_df"
   ]
  },
  {
   "cell_type": "code",
   "execution_count": null,
   "id": "029581e7",
   "metadata": {},
   "outputs": [],
   "source": [
    "# # Reorder the columns in the order you want them to appear.\n",
    "# new_column_order = [\"Total Schools\", \"Total Students\", \"Total Budget\",\"Average Math Score\", \"Average Reading Score\", \"% Passing Math\", \"% Passing Reading\", \"% Overall Passing\"]\n",
    "\n",
    "# # Assign district summary df the new column order.\n",
    "# district_summary_df = district_summary_df[new_column_order]\n",
    "# district_summary_df"
   ]
  },
  {
   "cell_type": "code",
   "execution_count": null,
   "id": "16cc6697",
   "metadata": {},
   "outputs": [],
   "source": [
    "#Determine the school type\n",
    "per_school_types=school_data_df.set_index([\"school_name\"])[\"type\"]\n",
    "per_school_types"
   ]
  },
  {
   "cell_type": "code",
   "execution_count": null,
   "id": "c4985f2d",
   "metadata": {},
   "outputs": [],
   "source": [
    "#Add the per_school_types into a Dataframe for testing\n",
    "df = pd.DataFrame(per_school_types)\n",
    "df"
   ]
  },
  {
   "cell_type": "code",
   "execution_count": null,
   "id": "a9a89333",
   "metadata": {},
   "outputs": [],
   "source": [
    "#Calculate the total student count\n",
    "#can't use the index with school data as it is not on school name; will need to use set_index\n",
    "per_school_counts=school_data_df.set_index([\"school_name\"])[\"size\"]\n",
    "per_school_counts"
   ]
  },
  {
   "cell_type": "code",
   "execution_count": null,
   "id": "bc8932a5",
   "metadata": {},
   "outputs": [],
   "source": [
    "#Calculate the total student count\n",
    "per_school_counts=school_data_complete_df[\"school_name\"].value_counts()\n",
    "per_school_counts"
   ]
  },
  {
   "cell_type": "code",
   "execution_count": null,
   "id": "e6fba0c7",
   "metadata": {},
   "outputs": [],
   "source": [
    "#Calculate the total school budget\n",
    "per_school_budget=school_data_df.set_index([\"school_name\"])[\"budget\"]\n",
    "per_school_budget"
   ]
  },
  {
   "cell_type": "code",
   "execution_count": null,
   "id": "92b80bad",
   "metadata": {},
   "outputs": [],
   "source": [
    "#Calculate the per capita spending\n",
    "per_school_capita=per_school_budget/per_school_counts\n",
    "per_school_capita"
   ]
  },
  {
   "cell_type": "code",
   "execution_count": null,
   "id": "e38054c2",
   "metadata": {},
   "outputs": [],
   "source": [
    "#Calculate math scores\n",
    "student_school_math=clean_students_data_df.set_index([\"school_name\"])[\"math_score\"]\n",
    "student_school_math"
   ]
  },
  {
   "cell_type": "code",
   "execution_count": null,
   "id": "25fe791a",
   "metadata": {},
   "outputs": [],
   "source": [
    "#Calculate the average scores per school\n",
    "per_school_averages=school_data_complete_df.groupby([\"school_name\"]).mean()\n",
    "per_school_averages"
   ]
  },
  {
   "cell_type": "code",
   "execution_count": null,
   "id": "3b3eaf39",
   "metadata": {},
   "outputs": [],
   "source": [
    "#Calculate the average math scores per school\n",
    "per_school_math=school_data_complete_df.groupby([\"school_name\"]).mean()[\"math_score\"]\n",
    "per_school_math"
   ]
  },
  {
   "cell_type": "code",
   "execution_count": null,
   "id": "7ec4f46c",
   "metadata": {},
   "outputs": [],
   "source": [
    "#Calculate the average reading scores per school\n",
    "per_school_reading=school_data_complete_df.groupby([\"school_name\"]).mean()[\"reading_score\"]\n",
    "per_school_reading"
   ]
  },
  {
   "cell_type": "code",
   "execution_count": null,
   "id": "ba56f2e0",
   "metadata": {},
   "outputs": [],
   "source": [
    "# To get the passing percentages, we need to:\n",
    " # 1. Determine what is the passing grade.  determined that >=70 is considered passing\n",
    " # 2. Get the number of students who passed math and reading.\n",
    " # 3. Get the students who passed math and passed reading\n",
    "    \n"
   ]
  },
  {
   "cell_type": "code",
   "execution_count": null,
   "id": "67d93cbb",
   "metadata": {},
   "outputs": [],
   "source": [
    "#Get the number of students who passed math\n",
    "passing_math=school_data_complete_df[(school_data_complete_df[\"math_score\"]>=70)]\n",
    "\n",
    "\n",
    "passing_math"
   ]
  },
  {
   "cell_type": "code",
   "execution_count": null,
   "id": "b26628ab",
   "metadata": {},
   "outputs": [],
   "source": [
    "#Get the number of students who pass reading\n",
    "passing_reading=school_data_complete_df[(school_data_complete_df[\"reading_score\"]>=70)]\n",
    "passing_reading"
   ]
  },
  {
   "cell_type": "code",
   "execution_count": null,
   "id": "3bfb512c",
   "metadata": {},
   "outputs": [],
   "source": [
    "# Calculate the passing scores by creating a filtered DataFrame.\n",
    "###assigning new variable names\n",
    "per_school_passing_math = school_data_complete_df[(school_data_complete_df[\"math_score\"] >= 70)]\n",
    "per_school_passing_math.head()\n",
    "\n",
    "#per_school_passing_reading = school_data_complete_df[(school_data_complete_df[\"reading_score\"] >= 70)]\n",
    "#per_school_passing_reading.head()"
   ]
  },
  {
   "cell_type": "code",
   "execution_count": null,
   "id": "e6093e69",
   "metadata": {},
   "outputs": [],
   "source": [
    "per_school_passing_reading = school_data_complete_df[(school_data_complete_df[\"reading_score\"] >= 70)]\n",
    "per_school_passing_reading.head()"
   ]
  },
  {
   "cell_type": "code",
   "execution_count": null,
   "id": "288e5091",
   "metadata": {},
   "outputs": [],
   "source": [
    "# ## Calculate the number of students passing math by school.\n",
    "### this is the reason for the new variable names\n",
    "\n",
    "\n",
    "per_school_passing_math = per_school_passing_math.groupby([\"school_name\"]).count()[\"student_name\"]\n",
    "per_school_passing_math.head()\n",
    "# per_school_passing_reading = per_school_passing_reading.groupby([\"school_name\"]).count()[\"student_name\"]\n",
    "\n"
   ]
  },
  {
   "cell_type": "code",
   "execution_count": null,
   "id": "73303980",
   "metadata": {},
   "outputs": [],
   "source": [
    "# ## Calculate the number of students passing reading by school.\n",
    "per_school_passing_reading=per_school_passing_reading.groupby([\"school_name\"]).count()[\"student_name\"]\n",
    "per_school_passing_reading"
   ]
  },
  {
   "cell_type": "code",
   "execution_count": null,
   "id": "94f48c17",
   "metadata": {},
   "outputs": [],
   "source": [
    "# Calculate the percentage of passing math scores per school.\n",
    "per_school_passing_math=per_school_passing_math/per_school_counts*100\n",
    "per_school_passing_math"
   ]
  },
  {
   "cell_type": "code",
   "execution_count": null,
   "id": "ceb6b755",
   "metadata": {},
   "outputs": [],
   "source": [
    "# Calculate the percentage of passing reading scores per school.\n",
    "per_school_passing_reading=per_school_passing_reading/per_school_counts*100\n",
    "per_school_passing_reading"
   ]
  },
  {
   "cell_type": "code",
   "execution_count": null,
   "id": "3fe32733",
   "metadata": {},
   "outputs": [],
   "source": [
    "# Calculate the students who passed both math and reading. and put in a new dataframe\n",
    "#per_passing_math_reading = school_data_complete_df[(school_data_complete_df[\"math_score\"] >= 70) & (school_data_complete_df[\"reading_score\"] >= 70)]\n",
    "per_passing_math_reading=school_data_complete_df[(school_data_complete_df[\"math_score\"]>=70)& (school_data_complete_df[\"reading_score\"]>=70)]\n",
    "per_passing_math_reading.head()"
   ]
  },
  {
   "cell_type": "code",
   "execution_count": null,
   "id": "7c7f4eeb",
   "metadata": {},
   "outputs": [],
   "source": [
    "# Calculate the number of students who passed both math and reading.\n",
    "per_passing_math_reading = per_passing_math_reading.groupby([\"school_name\"]).count()[\"student_name\"]\n",
    "#per_passing_math_reading=per_passing_math_reading.groupby([\"school_name\"]).count()[\"student_name\"]\n",
    "per_passing_math_reading"
   ]
  },
  {
   "cell_type": "code",
   "execution_count": null,
   "id": "44795111",
   "metadata": {},
   "outputs": [],
   "source": [
    "# Calculate the overall passing percentage.\n",
    "per_overall_passing_percentage = per_passing_math_reading / per_school_counts * 100\n",
    "\n",
    "per_overall_passing_percentage"
   ]
  },
  {
   "cell_type": "code",
   "execution_count": null,
   "id": "678d7573",
   "metadata": {
    "scrolled": true
   },
   "outputs": [],
   "source": [
    "#Adding a list of values with keys to creat a new DataFrame\n",
    "per_school_summary_df=pd.DataFrame({\"School Type\":per_school_types,\n",
    "\t\t\t\t\"Total Students\": per_school_counts,\n",
    "\t\t\t\t\"Total School Budget\":per_school_budget,\n",
    "\t\t\t\t\"Per Student Budget\": per_school_capita,\n",
    "\t\t\t\t \"Average Math Score\": per_school_math,\n",
    "\t\t\t\t \"Average Reading Score\": per_school_reading,\n",
    "\t\t\t\t \"% Passing Math\":per_school_passing_math,\n",
    "\t\t\t\t\"% Passing Reading\":per_school_passing_reading,\n",
    "\t\t\t\t \"% Overall Passing\":per_overall_passing_percentage})\n",
    "per_school_summary_df.head()"
   ]
  },
  {
   "cell_type": "code",
   "execution_count": null,
   "id": "18f3ceee",
   "metadata": {
    "scrolled": true
   },
   "outputs": [],
   "source": [
    "# Format the Total School Budget and the Per Student Budget columns.\n",
    "\n",
    "per_school_summary_df[\"Total School Budget\"]= per_school_summary_df[\"Total School Budget\"].map(\"${:,.2f}\".format)\n",
    "per_school_summary_df[\"Per Student Budget\"] = per_school_summary_df[\"Per Student Budget\"].map(\"${:,.2f}\".format)\n",
    "\n",
    "\n",
    "per_school_summary_df.head()"
   ]
  },
  {
   "cell_type": "code",
   "execution_count": null,
   "id": "3d215e19",
   "metadata": {},
   "outputs": [],
   "source": [
    "# Sort and show top five schools.\n",
    "\n",
    "top_schools = per_school_summary_df.sort_values([\"% Overall Passing\"], ascending=False)\n",
    "\n",
    "top_schools.head()"
   ]
  },
  {
   "cell_type": "code",
   "execution_count": null,
   "id": "d6278b5e",
   "metadata": {},
   "outputs": [],
   "source": [
    "# Sort and show bottom five schools.\n",
    "bottom_schools = per_school_summary_df.sort_values([\"% Overall Passing\"], ascending=True)\n",
    "\n",
    "bottom_schools.head()"
   ]
  },
  {
   "cell_type": "code",
   "execution_count": null,
   "id": "5ea7776c",
   "metadata": {},
   "outputs": [],
   "source": [
    "# Create a grade 9 level DataFrames.\n",
    "\n",
    "ninth_graders=school_data_complete_df[(school_data_complete_df[\"grade\"]==\"9th\")]\n",
    "ninth_graders.head()\n"
   ]
  },
  {
   "cell_type": "code",
   "execution_count": null,
   "id": "6a04dd45",
   "metadata": {},
   "outputs": [],
   "source": [
    "# Create a grade 10 level DataFrames.\n",
    "\n",
    "tenth_graders=school_data_complete_df[(school_data_complete_df[\"grade\"]==\"10th\")]\n",
    "tenth_graders.head()"
   ]
  },
  {
   "cell_type": "code",
   "execution_count": null,
   "id": "7ba6f469",
   "metadata": {},
   "outputs": [],
   "source": [
    "# Create a grade 11 level DataFrames.\n",
    "\n",
    "eleventh_graders = school_data_complete_df[(school_data_complete_df[\"grade\"] == \"11th\")]\n",
    "eleventh_graders.head()"
   ]
  },
  {
   "cell_type": "code",
   "execution_count": null,
   "id": "f5503e6d",
   "metadata": {},
   "outputs": [],
   "source": [
    "# Create a grade 12 level DataFrames.\n",
    "\n",
    "twelfth_graders=school_data_complete_df[(school_data_complete_df[\"grade\"]==\"12th\")]\n",
    "twelfth_graders.head()"
   ]
  },
  {
   "cell_type": "code",
   "execution_count": null,
   "id": "752b9744",
   "metadata": {},
   "outputs": [],
   "source": [
    "# Group grade 9 level DataFrame by the school name for the average math score.\n",
    "nineth_graders_math_scores=school_data_complete_df.groupby([\"school_name\"]).mean()[\"math_score\"]\n",
    "nineth_graders_math_scores"
   ]
  },
  {
   "cell_type": "code",
   "execution_count": null,
   "id": "f0b9093f",
   "metadata": {},
   "outputs": [],
   "source": [
    "# Group grade 10 level DataFrame by the school name for the average math score.\n",
    "tenth_graders_math_scores=school_data_complete_df.groupby([\"school_name\"]).mean()[\"math_score\"]\n",
    "tenth_graders_math_scores"
   ]
  },
  {
   "cell_type": "code",
   "execution_count": null,
   "id": "cd41daa3",
   "metadata": {},
   "outputs": [],
   "source": [
    "# Group grade 11 level DataFrame by the school name for the average math score.\n",
    "#eleventh_graders_math_scores=school_data_complete_df.groupby([\"school_name\"]).mean()[\"math_score\"]\n",
    "eleventh_graders_math_scores = school_data_complete_df.groupby([\"school_name\"]).mean()[\"math_score\"]\n",
    "eleventh_graders_math_scores"
   ]
  },
  {
   "cell_type": "code",
   "execution_count": null,
   "id": "7b524b26",
   "metadata": {},
   "outputs": [],
   "source": [
    "# Group grade 12 level DataFrame by the school name for the average math score.\n",
    "twelfth_graders_math_scores=school_data_complete_df.groupby([\"school_name\"]).mean()[\"math_score\"]\n",
    "twelfth_graders_math_scores"
   ]
  }
 ],
 "metadata": {
  "kernelspec": {
   "display_name": "PythonData",
   "language": "python",
   "name": "pythondata"
  },
  "language_info": {
   "codemirror_mode": {
    "name": "ipython",
    "version": 3
   },
   "file_extension": ".py",
   "mimetype": "text/x-python",
   "name": "python",
   "nbconvert_exporter": "python",
   "pygments_lexer": "ipython3",
   "version": "3.7.10"
  }
 },
 "nbformat": 4,
 "nbformat_minor": 5
}
