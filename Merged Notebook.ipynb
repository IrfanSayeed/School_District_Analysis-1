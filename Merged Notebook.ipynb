{
 "cells": [
  {
   "cell_type": "code",
   "execution_count": 2,
   "id": "22623cdc",
   "metadata": {},
   "outputs": [],
   "source": [
    "import nbformat\n",
    "# Reading the notebooks\n",
    "first_notebook = nbformat.read('PyCitySchools_Challenge_starter_code.ipynb', 4)\n",
    "second_notebook = nbformat.read('PyCitySchools_Challenge_testing_original.ipynb', 4)\n",
    "# Creating a new notebook\n",
    "final_notebook = nbformat.v4.new_notebook(metadata=first_notebook.metadata)\n",
    "# Concatenating the notebooks\n",
    "final_notebook.cells = first_notebook.cells + second_notebook.cells\n",
    "# Saving the new notebook\n",
    "nbformat.write(final_notebook, 'PyCitySchools_Challenge_testing.ipynb') "
   ]
  }
 ],
 "metadata": {
  "kernelspec": {
   "display_name": "PythonData",
   "language": "python",
   "name": "pythondata"
  },
  "language_info": {
   "codemirror_mode": {
    "name": "ipython",
    "version": 3
   },
   "file_extension": ".py",
   "mimetype": "text/x-python",
   "name": "python",
   "nbconvert_exporter": "python",
   "pygments_lexer": "ipython3",
   "version": "3.7.10"
  }
 },
 "nbformat": 4,
 "nbformat_minor": 5
}
